{
 "cells": [
  {
   "cell_type": "code",
   "execution_count": 1,
   "id": "33a835e1",
   "metadata": {
    "_cell_guid": "b1076dfc-b9ad-4769-8c92-a6c4dae69d19",
    "_uuid": "8f2839f25d086af736a60e9eeb907d3b93b6e0e5",
    "execution": {
     "iopub.execute_input": "2025-01-12T04:22:46.079958Z",
     "iopub.status.busy": "2025-01-12T04:22:46.079555Z",
     "iopub.status.idle": "2025-01-12T04:22:46.502545Z",
     "shell.execute_reply": "2025-01-12T04:22:46.501153Z"
    },
    "papermill": {
     "duration": 0.435666,
     "end_time": "2025-01-12T04:22:46.505412",
     "exception": false,
     "start_time": "2025-01-12T04:22:46.069746",
     "status": "completed"
    },
    "tags": []
   },
   "outputs": [
    {
     "name": "stdout",
     "output_type": "stream",
     "text": [
      "/kaggle/input/credit-card-behaviour-score/Dev_data_to_be_shared.csv\n",
      "/kaggle/input/credit-card-behaviour-score/validation_data_to_be_shared.csv\n"
     ]
    }
   ],
   "source": [
    "# This Python 3 environment comes with many helpful analytics libraries installed\n",
    "# It is defined by the kaggle/python Docker image: https://github.com/kaggle/docker-python\n",
    "# For example, here's several helpful packages to load\n",
    "\n",
    "import numpy as np # linear algebra\n",
    "import pandas as pd # data processing, CSV file I/O (e.g. pd.read_csv)\n",
    "\n",
    "# Input data files are available in the read-only \"../input/\" directory\n",
    "# For example, running this (by clicking run or pressing Shift+Enter) will list all files under the input directory\n",
    "\n",
    "import os\n",
    "for dirname, _, filenames in os.walk('/kaggle/input'):\n",
    "    for filename in filenames:\n",
    "        print(os.path.join(dirname, filename))\n",
    "\n",
    "# You can write up to 20GB to the current directory (/kaggle/working/) that gets preserved as output when you create a version using \"Save & Run All\" \n",
    "# You can also write temporary files to /kaggle/temp/, but they won't be saved outside of the current session"
   ]
  },
  {
   "cell_type": "code",
   "execution_count": 2,
   "id": "3c45706b",
   "metadata": {
    "execution": {
     "iopub.execute_input": "2025-01-12T04:22:46.526257Z",
     "iopub.status.busy": "2025-01-12T04:22:46.525724Z",
     "iopub.status.idle": "2025-01-12T04:23:09.127049Z",
     "shell.execute_reply": "2025-01-12T04:23:09.125539Z"
    },
    "papermill": {
     "duration": 22.613263,
     "end_time": "2025-01-12T04:23:09.129024",
     "exception": false,
     "start_time": "2025-01-12T04:22:46.515761",
     "status": "completed"
    },
    "tags": []
   },
   "outputs": [],
   "source": [
    "df = pd.read_csv(\"/kaggle/input/credit-card-behaviour-score/Dev_data_to_be_shared.csv\")\n",
    "df_val = pd.read_csv(\"/kaggle/input/credit-card-behaviour-score/validation_data_to_be_shared.csv\")\n"
   ]
  },
  {
   "cell_type": "code",
   "execution_count": 3,
   "id": "72fb8f9d",
   "metadata": {
    "execution": {
     "iopub.execute_input": "2025-01-12T04:23:09.146620Z",
     "iopub.status.busy": "2025-01-12T04:23:09.146279Z",
     "iopub.status.idle": "2025-01-12T04:23:09.210703Z",
     "shell.execute_reply": "2025-01-12T04:23:09.209592Z"
    },
    "papermill": {
     "duration": 0.075344,
     "end_time": "2025-01-12T04:23:09.212705",
     "exception": false,
     "start_time": "2025-01-12T04:23:09.137361",
     "status": "completed"
    },
    "tags": []
   },
   "outputs": [
    {
     "data": {
      "text/html": [
       "<div>\n",
       "<style scoped>\n",
       "    .dataframe tbody tr th:only-of-type {\n",
       "        vertical-align: middle;\n",
       "    }\n",
       "\n",
       "    .dataframe tbody tr th {\n",
       "        vertical-align: top;\n",
       "    }\n",
       "\n",
       "    .dataframe thead th {\n",
       "        text-align: right;\n",
       "    }\n",
       "</style>\n",
       "<table border=\"1\" class=\"dataframe\">\n",
       "  <thead>\n",
       "    <tr style=\"text-align: right;\">\n",
       "      <th></th>\n",
       "      <th>account_number</th>\n",
       "      <th>bad_flag</th>\n",
       "      <th>onus_attribute_1</th>\n",
       "      <th>transaction_attribute_1</th>\n",
       "      <th>transaction_attribute_2</th>\n",
       "      <th>transaction_attribute_3</th>\n",
       "      <th>transaction_attribute_4</th>\n",
       "      <th>transaction_attribute_5</th>\n",
       "      <th>transaction_attribute_6</th>\n",
       "      <th>transaction_attribute_7</th>\n",
       "      <th>...</th>\n",
       "      <th>bureau_enquiry_47</th>\n",
       "      <th>bureau_enquiry_48</th>\n",
       "      <th>bureau_enquiry_49</th>\n",
       "      <th>bureau_enquiry_50</th>\n",
       "      <th>onus_attribute_43</th>\n",
       "      <th>onus_attribute_44</th>\n",
       "      <th>onus_attribute_45</th>\n",
       "      <th>onus_attribute_46</th>\n",
       "      <th>onus_attribute_47</th>\n",
       "      <th>onus_attribute_48</th>\n",
       "    </tr>\n",
       "  </thead>\n",
       "  <tbody>\n",
       "    <tr>\n",
       "      <th>0</th>\n",
       "      <td>1</td>\n",
       "      <td>0</td>\n",
       "      <td>NaN</td>\n",
       "      <td>NaN</td>\n",
       "      <td>NaN</td>\n",
       "      <td>NaN</td>\n",
       "      <td>NaN</td>\n",
       "      <td>NaN</td>\n",
       "      <td>NaN</td>\n",
       "      <td>NaN</td>\n",
       "      <td>...</td>\n",
       "      <td>0.0</td>\n",
       "      <td>0.0</td>\n",
       "      <td>0.0</td>\n",
       "      <td>1.0</td>\n",
       "      <td>NaN</td>\n",
       "      <td>NaN</td>\n",
       "      <td>NaN</td>\n",
       "      <td>NaN</td>\n",
       "      <td>NaN</td>\n",
       "      <td>NaN</td>\n",
       "    </tr>\n",
       "    <tr>\n",
       "      <th>1</th>\n",
       "      <td>2</td>\n",
       "      <td>0</td>\n",
       "      <td>221000.0</td>\n",
       "      <td>0.0</td>\n",
       "      <td>0.0</td>\n",
       "      <td>0.0</td>\n",
       "      <td>0.0</td>\n",
       "      <td>0.0</td>\n",
       "      <td>0.0</td>\n",
       "      <td>0.0</td>\n",
       "      <td>...</td>\n",
       "      <td>0.0</td>\n",
       "      <td>0.0</td>\n",
       "      <td>2.0</td>\n",
       "      <td>3.0</td>\n",
       "      <td>0.0</td>\n",
       "      <td>0.0</td>\n",
       "      <td>0.0</td>\n",
       "      <td>0.0</td>\n",
       "      <td>0.0</td>\n",
       "      <td>0.0</td>\n",
       "    </tr>\n",
       "    <tr>\n",
       "      <th>2</th>\n",
       "      <td>3</td>\n",
       "      <td>0</td>\n",
       "      <td>25000.0</td>\n",
       "      <td>0.0</td>\n",
       "      <td>0.0</td>\n",
       "      <td>0.0</td>\n",
       "      <td>0.0</td>\n",
       "      <td>0.0</td>\n",
       "      <td>0.0</td>\n",
       "      <td>0.0</td>\n",
       "      <td>...</td>\n",
       "      <td>0.0</td>\n",
       "      <td>0.0</td>\n",
       "      <td>0.0</td>\n",
       "      <td>8.0</td>\n",
       "      <td>NaN</td>\n",
       "      <td>NaN</td>\n",
       "      <td>NaN</td>\n",
       "      <td>NaN</td>\n",
       "      <td>NaN</td>\n",
       "      <td>NaN</td>\n",
       "    </tr>\n",
       "    <tr>\n",
       "      <th>3</th>\n",
       "      <td>4</td>\n",
       "      <td>0</td>\n",
       "      <td>86000.0</td>\n",
       "      <td>0.0</td>\n",
       "      <td>0.0</td>\n",
       "      <td>0.0</td>\n",
       "      <td>0.0</td>\n",
       "      <td>0.0</td>\n",
       "      <td>0.0</td>\n",
       "      <td>0.0</td>\n",
       "      <td>...</td>\n",
       "      <td>0.0</td>\n",
       "      <td>0.0</td>\n",
       "      <td>0.0</td>\n",
       "      <td>30.0</td>\n",
       "      <td>NaN</td>\n",
       "      <td>NaN</td>\n",
       "      <td>NaN</td>\n",
       "      <td>NaN</td>\n",
       "      <td>NaN</td>\n",
       "      <td>NaN</td>\n",
       "    </tr>\n",
       "    <tr>\n",
       "      <th>4</th>\n",
       "      <td>5</td>\n",
       "      <td>0</td>\n",
       "      <td>215000.0</td>\n",
       "      <td>0.0</td>\n",
       "      <td>0.0</td>\n",
       "      <td>0.0</td>\n",
       "      <td>0.0</td>\n",
       "      <td>0.0</td>\n",
       "      <td>0.0</td>\n",
       "      <td>0.0</td>\n",
       "      <td>...</td>\n",
       "      <td>0.0</td>\n",
       "      <td>0.0</td>\n",
       "      <td>0.0</td>\n",
       "      <td>1.0</td>\n",
       "      <td>NaN</td>\n",
       "      <td>NaN</td>\n",
       "      <td>NaN</td>\n",
       "      <td>NaN</td>\n",
       "      <td>NaN</td>\n",
       "      <td>NaN</td>\n",
       "    </tr>\n",
       "    <tr>\n",
       "      <th>...</th>\n",
       "      <td>...</td>\n",
       "      <td>...</td>\n",
       "      <td>...</td>\n",
       "      <td>...</td>\n",
       "      <td>...</td>\n",
       "      <td>...</td>\n",
       "      <td>...</td>\n",
       "      <td>...</td>\n",
       "      <td>...</td>\n",
       "      <td>...</td>\n",
       "      <td>...</td>\n",
       "      <td>...</td>\n",
       "      <td>...</td>\n",
       "      <td>...</td>\n",
       "      <td>...</td>\n",
       "      <td>...</td>\n",
       "      <td>...</td>\n",
       "      <td>...</td>\n",
       "      <td>...</td>\n",
       "      <td>...</td>\n",
       "      <td>...</td>\n",
       "    </tr>\n",
       "    <tr>\n",
       "      <th>96801</th>\n",
       "      <td>96802</td>\n",
       "      <td>0</td>\n",
       "      <td>156000.0</td>\n",
       "      <td>0.0</td>\n",
       "      <td>0.0</td>\n",
       "      <td>0.0</td>\n",
       "      <td>0.0</td>\n",
       "      <td>0.0</td>\n",
       "      <td>0.0</td>\n",
       "      <td>0.0</td>\n",
       "      <td>...</td>\n",
       "      <td>0.0</td>\n",
       "      <td>0.0</td>\n",
       "      <td>0.0</td>\n",
       "      <td>1.0</td>\n",
       "      <td>NaN</td>\n",
       "      <td>NaN</td>\n",
       "      <td>NaN</td>\n",
       "      <td>NaN</td>\n",
       "      <td>NaN</td>\n",
       "      <td>NaN</td>\n",
       "    </tr>\n",
       "    <tr>\n",
       "      <th>96802</th>\n",
       "      <td>96803</td>\n",
       "      <td>0</td>\n",
       "      <td>46000.0</td>\n",
       "      <td>0.0</td>\n",
       "      <td>0.0</td>\n",
       "      <td>0.0</td>\n",
       "      <td>0.0</td>\n",
       "      <td>0.0</td>\n",
       "      <td>0.0</td>\n",
       "      <td>0.0</td>\n",
       "      <td>...</td>\n",
       "      <td>0.0</td>\n",
       "      <td>0.0</td>\n",
       "      <td>0.0</td>\n",
       "      <td>3.0</td>\n",
       "      <td>0.0</td>\n",
       "      <td>1.0</td>\n",
       "      <td>0.0</td>\n",
       "      <td>1.0</td>\n",
       "      <td>0.0</td>\n",
       "      <td>0.0</td>\n",
       "    </tr>\n",
       "    <tr>\n",
       "      <th>96803</th>\n",
       "      <td>96804</td>\n",
       "      <td>0</td>\n",
       "      <td>95000.0</td>\n",
       "      <td>0.0</td>\n",
       "      <td>0.0</td>\n",
       "      <td>0.0</td>\n",
       "      <td>0.0</td>\n",
       "      <td>0.0</td>\n",
       "      <td>0.0</td>\n",
       "      <td>0.0</td>\n",
       "      <td>...</td>\n",
       "      <td>0.0</td>\n",
       "      <td>0.0</td>\n",
       "      <td>0.0</td>\n",
       "      <td>20.0</td>\n",
       "      <td>NaN</td>\n",
       "      <td>NaN</td>\n",
       "      <td>NaN</td>\n",
       "      <td>NaN</td>\n",
       "      <td>NaN</td>\n",
       "      <td>NaN</td>\n",
       "    </tr>\n",
       "    <tr>\n",
       "      <th>96804</th>\n",
       "      <td>96805</td>\n",
       "      <td>0</td>\n",
       "      <td>88000.0</td>\n",
       "      <td>0.0</td>\n",
       "      <td>0.0</td>\n",
       "      <td>0.0</td>\n",
       "      <td>0.0</td>\n",
       "      <td>0.0</td>\n",
       "      <td>0.0</td>\n",
       "      <td>0.0</td>\n",
       "      <td>...</td>\n",
       "      <td>0.0</td>\n",
       "      <td>1.0</td>\n",
       "      <td>0.0</td>\n",
       "      <td>8.0</td>\n",
       "      <td>NaN</td>\n",
       "      <td>NaN</td>\n",
       "      <td>NaN</td>\n",
       "      <td>NaN</td>\n",
       "      <td>NaN</td>\n",
       "      <td>NaN</td>\n",
       "    </tr>\n",
       "    <tr>\n",
       "      <th>96805</th>\n",
       "      <td>96806</td>\n",
       "      <td>0</td>\n",
       "      <td>94000.0</td>\n",
       "      <td>0.0</td>\n",
       "      <td>0.0</td>\n",
       "      <td>0.0</td>\n",
       "      <td>0.0</td>\n",
       "      <td>0.0</td>\n",
       "      <td>0.0</td>\n",
       "      <td>0.0</td>\n",
       "      <td>...</td>\n",
       "      <td>0.0</td>\n",
       "      <td>0.0</td>\n",
       "      <td>0.0</td>\n",
       "      <td>25.0</td>\n",
       "      <td>NaN</td>\n",
       "      <td>NaN</td>\n",
       "      <td>NaN</td>\n",
       "      <td>NaN</td>\n",
       "      <td>NaN</td>\n",
       "      <td>NaN</td>\n",
       "    </tr>\n",
       "  </tbody>\n",
       "</table>\n",
       "<p>96806 rows × 1216 columns</p>\n",
       "</div>"
      ],
      "text/plain": [
       "       account_number  bad_flag  onus_attribute_1  transaction_attribute_1  \\\n",
       "0                   1         0               NaN                      NaN   \n",
       "1                   2         0          221000.0                      0.0   \n",
       "2                   3         0           25000.0                      0.0   \n",
       "3                   4         0           86000.0                      0.0   \n",
       "4                   5         0          215000.0                      0.0   \n",
       "...               ...       ...               ...                      ...   \n",
       "96801           96802         0          156000.0                      0.0   \n",
       "96802           96803         0           46000.0                      0.0   \n",
       "96803           96804         0           95000.0                      0.0   \n",
       "96804           96805         0           88000.0                      0.0   \n",
       "96805           96806         0           94000.0                      0.0   \n",
       "\n",
       "       transaction_attribute_2  transaction_attribute_3  \\\n",
       "0                          NaN                      NaN   \n",
       "1                          0.0                      0.0   \n",
       "2                          0.0                      0.0   \n",
       "3                          0.0                      0.0   \n",
       "4                          0.0                      0.0   \n",
       "...                        ...                      ...   \n",
       "96801                      0.0                      0.0   \n",
       "96802                      0.0                      0.0   \n",
       "96803                      0.0                      0.0   \n",
       "96804                      0.0                      0.0   \n",
       "96805                      0.0                      0.0   \n",
       "\n",
       "       transaction_attribute_4  transaction_attribute_5  \\\n",
       "0                          NaN                      NaN   \n",
       "1                          0.0                      0.0   \n",
       "2                          0.0                      0.0   \n",
       "3                          0.0                      0.0   \n",
       "4                          0.0                      0.0   \n",
       "...                        ...                      ...   \n",
       "96801                      0.0                      0.0   \n",
       "96802                      0.0                      0.0   \n",
       "96803                      0.0                      0.0   \n",
       "96804                      0.0                      0.0   \n",
       "96805                      0.0                      0.0   \n",
       "\n",
       "       transaction_attribute_6  transaction_attribute_7  ...  \\\n",
       "0                          NaN                      NaN  ...   \n",
       "1                          0.0                      0.0  ...   \n",
       "2                          0.0                      0.0  ...   \n",
       "3                          0.0                      0.0  ...   \n",
       "4                          0.0                      0.0  ...   \n",
       "...                        ...                      ...  ...   \n",
       "96801                      0.0                      0.0  ...   \n",
       "96802                      0.0                      0.0  ...   \n",
       "96803                      0.0                      0.0  ...   \n",
       "96804                      0.0                      0.0  ...   \n",
       "96805                      0.0                      0.0  ...   \n",
       "\n",
       "       bureau_enquiry_47  bureau_enquiry_48  bureau_enquiry_49  \\\n",
       "0                    0.0                0.0                0.0   \n",
       "1                    0.0                0.0                2.0   \n",
       "2                    0.0                0.0                0.0   \n",
       "3                    0.0                0.0                0.0   \n",
       "4                    0.0                0.0                0.0   \n",
       "...                  ...                ...                ...   \n",
       "96801                0.0                0.0                0.0   \n",
       "96802                0.0                0.0                0.0   \n",
       "96803                0.0                0.0                0.0   \n",
       "96804                0.0                1.0                0.0   \n",
       "96805                0.0                0.0                0.0   \n",
       "\n",
       "       bureau_enquiry_50  onus_attribute_43  onus_attribute_44  \\\n",
       "0                    1.0                NaN                NaN   \n",
       "1                    3.0                0.0                0.0   \n",
       "2                    8.0                NaN                NaN   \n",
       "3                   30.0                NaN                NaN   \n",
       "4                    1.0                NaN                NaN   \n",
       "...                  ...                ...                ...   \n",
       "96801                1.0                NaN                NaN   \n",
       "96802                3.0                0.0                1.0   \n",
       "96803               20.0                NaN                NaN   \n",
       "96804                8.0                NaN                NaN   \n",
       "96805               25.0                NaN                NaN   \n",
       "\n",
       "       onus_attribute_45  onus_attribute_46  onus_attribute_47  \\\n",
       "0                    NaN                NaN                NaN   \n",
       "1                    0.0                0.0                0.0   \n",
       "2                    NaN                NaN                NaN   \n",
       "3                    NaN                NaN                NaN   \n",
       "4                    NaN                NaN                NaN   \n",
       "...                  ...                ...                ...   \n",
       "96801                NaN                NaN                NaN   \n",
       "96802                0.0                1.0                0.0   \n",
       "96803                NaN                NaN                NaN   \n",
       "96804                NaN                NaN                NaN   \n",
       "96805                NaN                NaN                NaN   \n",
       "\n",
       "       onus_attribute_48  \n",
       "0                    NaN  \n",
       "1                    0.0  \n",
       "2                    NaN  \n",
       "3                    NaN  \n",
       "4                    NaN  \n",
       "...                  ...  \n",
       "96801                NaN  \n",
       "96802                0.0  \n",
       "96803                NaN  \n",
       "96804                NaN  \n",
       "96805                NaN  \n",
       "\n",
       "[96806 rows x 1216 columns]"
      ]
     },
     "execution_count": 3,
     "metadata": {},
     "output_type": "execute_result"
    }
   ],
   "source": [
    "df"
   ]
  },
  {
   "cell_type": "code",
   "execution_count": 4,
   "id": "fbce8679",
   "metadata": {
    "execution": {
     "iopub.execute_input": "2025-01-12T04:23:09.231332Z",
     "iopub.status.busy": "2025-01-12T04:23:09.230946Z",
     "iopub.status.idle": "2025-01-12T04:23:09.246126Z",
     "shell.execute_reply": "2025-01-12T04:23:09.245019Z"
    },
    "papermill": {
     "duration": 0.026558,
     "end_time": "2025-01-12T04:23:09.248022",
     "exception": false,
     "start_time": "2025-01-12T04:23:09.221464",
     "status": "completed"
    },
    "tags": []
   },
   "outputs": [
    {
     "data": {
      "text/plain": [
       "bad_flag\n",
       "0    95434\n",
       "1     1372\n",
       "Name: count, dtype: int64"
      ]
     },
     "execution_count": 4,
     "metadata": {},
     "output_type": "execute_result"
    }
   ],
   "source": [
    "df.bad_flag.value_counts()"
   ]
  },
  {
   "cell_type": "markdown",
   "id": "4e21b1aa",
   "metadata": {
    "papermill": {
     "duration": 0.008505,
     "end_time": "2025-01-12T04:23:09.265523",
     "exception": false,
     "start_time": "2025-01-12T04:23:09.257018",
     "status": "completed"
    },
    "tags": []
   },
   "source": [
    "## Data Cleaning"
   ]
  },
  {
   "cell_type": "markdown",
   "id": "e9300975",
   "metadata": {
    "papermill": {
     "duration": 0.008355,
     "end_time": "2025-01-12T04:23:09.282817",
     "exception": false,
     "start_time": "2025-01-12T04:23:09.274462",
     "status": "completed"
    },
    "tags": []
   },
   "source": [
    "Going ahead with numerical data only and check how much accuracy we're getting on numerical cols only."
   ]
  },
  {
   "cell_type": "code",
   "execution_count": 5,
   "id": "48d4fd8b",
   "metadata": {
    "execution": {
     "iopub.execute_input": "2025-01-12T04:23:09.301120Z",
     "iopub.status.busy": "2025-01-12T04:23:09.300732Z",
     "iopub.status.idle": "2025-01-12T04:23:09.330779Z",
     "shell.execute_reply": "2025-01-12T04:23:09.329540Z"
    },
    "papermill": {
     "duration": 0.041941,
     "end_time": "2025-01-12T04:23:09.333076",
     "exception": false,
     "start_time": "2025-01-12T04:23:09.291135",
     "status": "completed"
    },
    "tags": []
   },
   "outputs": [
    {
     "data": {
      "text/html": [
       "<div>\n",
       "<style scoped>\n",
       "    .dataframe tbody tr th:only-of-type {\n",
       "        vertical-align: middle;\n",
       "    }\n",
       "\n",
       "    .dataframe tbody tr th {\n",
       "        vertical-align: top;\n",
       "    }\n",
       "\n",
       "    .dataframe thead th {\n",
       "        text-align: right;\n",
       "    }\n",
       "</style>\n",
       "<table border=\"1\" class=\"dataframe\">\n",
       "  <thead>\n",
       "    <tr style=\"text-align: right;\">\n",
       "      <th></th>\n",
       "      <th>account_number</th>\n",
       "      <th>bad_flag</th>\n",
       "      <th>onus_attribute_3</th>\n",
       "      <th>onus_attribute_4</th>\n",
       "      <th>onus_attribute_18</th>\n",
       "      <th>onus_attribute_19</th>\n",
       "      <th>onus_attribute_21</th>\n",
       "      <th>onus_attribute_22</th>\n",
       "      <th>onus_attribute_24</th>\n",
       "      <th>onus_attribute_25</th>\n",
       "      <th>...</th>\n",
       "      <th>onus_attribute_33</th>\n",
       "      <th>onus_attribute_34</th>\n",
       "      <th>onus_attribute_35</th>\n",
       "      <th>onus_attribute_36</th>\n",
       "      <th>onus_attribute_37</th>\n",
       "      <th>onus_attribute_38</th>\n",
       "      <th>onus_attribute_39</th>\n",
       "      <th>onus_attribute_40</th>\n",
       "      <th>onus_attribute_41</th>\n",
       "      <th>onus_attribute_42</th>\n",
       "    </tr>\n",
       "  </thead>\n",
       "  <tbody>\n",
       "    <tr>\n",
       "      <th>0</th>\n",
       "      <td>1</td>\n",
       "      <td>0</td>\n",
       "      <td>0</td>\n",
       "      <td>0</td>\n",
       "      <td>0</td>\n",
       "      <td>3</td>\n",
       "      <td>0</td>\n",
       "      <td>5</td>\n",
       "      <td>0</td>\n",
       "      <td>5</td>\n",
       "      <td>...</td>\n",
       "      <td>0</td>\n",
       "      <td>0</td>\n",
       "      <td>0</td>\n",
       "      <td>0</td>\n",
       "      <td>0</td>\n",
       "      <td>0</td>\n",
       "      <td>0</td>\n",
       "      <td>0</td>\n",
       "      <td>0</td>\n",
       "      <td>0</td>\n",
       "    </tr>\n",
       "    <tr>\n",
       "      <th>1</th>\n",
       "      <td>2</td>\n",
       "      <td>0</td>\n",
       "      <td>0</td>\n",
       "      <td>1</td>\n",
       "      <td>0</td>\n",
       "      <td>3</td>\n",
       "      <td>0</td>\n",
       "      <td>5</td>\n",
       "      <td>0</td>\n",
       "      <td>5</td>\n",
       "      <td>...</td>\n",
       "      <td>1</td>\n",
       "      <td>1</td>\n",
       "      <td>0</td>\n",
       "      <td>0</td>\n",
       "      <td>0</td>\n",
       "      <td>5</td>\n",
       "      <td>3</td>\n",
       "      <td>2</td>\n",
       "      <td>0</td>\n",
       "      <td>0</td>\n",
       "    </tr>\n",
       "    <tr>\n",
       "      <th>2</th>\n",
       "      <td>3</td>\n",
       "      <td>0</td>\n",
       "      <td>0</td>\n",
       "      <td>0</td>\n",
       "      <td>0</td>\n",
       "      <td>3</td>\n",
       "      <td>0</td>\n",
       "      <td>5</td>\n",
       "      <td>0</td>\n",
       "      <td>5</td>\n",
       "      <td>...</td>\n",
       "      <td>0</td>\n",
       "      <td>0</td>\n",
       "      <td>0</td>\n",
       "      <td>0</td>\n",
       "      <td>0</td>\n",
       "      <td>0</td>\n",
       "      <td>0</td>\n",
       "      <td>0</td>\n",
       "      <td>0</td>\n",
       "      <td>0</td>\n",
       "    </tr>\n",
       "    <tr>\n",
       "      <th>3</th>\n",
       "      <td>4</td>\n",
       "      <td>0</td>\n",
       "      <td>0</td>\n",
       "      <td>0</td>\n",
       "      <td>0</td>\n",
       "      <td>3</td>\n",
       "      <td>0</td>\n",
       "      <td>5</td>\n",
       "      <td>0</td>\n",
       "      <td>5</td>\n",
       "      <td>...</td>\n",
       "      <td>0</td>\n",
       "      <td>0</td>\n",
       "      <td>0</td>\n",
       "      <td>0</td>\n",
       "      <td>0</td>\n",
       "      <td>0</td>\n",
       "      <td>0</td>\n",
       "      <td>0</td>\n",
       "      <td>0</td>\n",
       "      <td>0</td>\n",
       "    </tr>\n",
       "    <tr>\n",
       "      <th>4</th>\n",
       "      <td>5</td>\n",
       "      <td>0</td>\n",
       "      <td>0</td>\n",
       "      <td>0</td>\n",
       "      <td>0</td>\n",
       "      <td>3</td>\n",
       "      <td>0</td>\n",
       "      <td>5</td>\n",
       "      <td>0</td>\n",
       "      <td>5</td>\n",
       "      <td>...</td>\n",
       "      <td>0</td>\n",
       "      <td>0</td>\n",
       "      <td>0</td>\n",
       "      <td>0</td>\n",
       "      <td>0</td>\n",
       "      <td>0</td>\n",
       "      <td>0</td>\n",
       "      <td>0</td>\n",
       "      <td>0</td>\n",
       "      <td>0</td>\n",
       "    </tr>\n",
       "    <tr>\n",
       "      <th>...</th>\n",
       "      <td>...</td>\n",
       "      <td>...</td>\n",
       "      <td>...</td>\n",
       "      <td>...</td>\n",
       "      <td>...</td>\n",
       "      <td>...</td>\n",
       "      <td>...</td>\n",
       "      <td>...</td>\n",
       "      <td>...</td>\n",
       "      <td>...</td>\n",
       "      <td>...</td>\n",
       "      <td>...</td>\n",
       "      <td>...</td>\n",
       "      <td>...</td>\n",
       "      <td>...</td>\n",
       "      <td>...</td>\n",
       "      <td>...</td>\n",
       "      <td>...</td>\n",
       "      <td>...</td>\n",
       "      <td>...</td>\n",
       "      <td>...</td>\n",
       "    </tr>\n",
       "    <tr>\n",
       "      <th>96801</th>\n",
       "      <td>96802</td>\n",
       "      <td>0</td>\n",
       "      <td>0</td>\n",
       "      <td>0</td>\n",
       "      <td>0</td>\n",
       "      <td>3</td>\n",
       "      <td>0</td>\n",
       "      <td>5</td>\n",
       "      <td>0</td>\n",
       "      <td>5</td>\n",
       "      <td>...</td>\n",
       "      <td>0</td>\n",
       "      <td>0</td>\n",
       "      <td>0</td>\n",
       "      <td>0</td>\n",
       "      <td>0</td>\n",
       "      <td>2</td>\n",
       "      <td>0</td>\n",
       "      <td>0</td>\n",
       "      <td>1</td>\n",
       "      <td>0</td>\n",
       "    </tr>\n",
       "    <tr>\n",
       "      <th>96802</th>\n",
       "      <td>96803</td>\n",
       "      <td>0</td>\n",
       "      <td>0</td>\n",
       "      <td>1</td>\n",
       "      <td>0</td>\n",
       "      <td>3</td>\n",
       "      <td>0</td>\n",
       "      <td>5</td>\n",
       "      <td>0</td>\n",
       "      <td>5</td>\n",
       "      <td>...</td>\n",
       "      <td>1</td>\n",
       "      <td>0</td>\n",
       "      <td>0</td>\n",
       "      <td>1</td>\n",
       "      <td>0</td>\n",
       "      <td>4</td>\n",
       "      <td>2</td>\n",
       "      <td>1</td>\n",
       "      <td>0</td>\n",
       "      <td>1</td>\n",
       "    </tr>\n",
       "    <tr>\n",
       "      <th>96803</th>\n",
       "      <td>96804</td>\n",
       "      <td>0</td>\n",
       "      <td>0</td>\n",
       "      <td>0</td>\n",
       "      <td>0</td>\n",
       "      <td>3</td>\n",
       "      <td>0</td>\n",
       "      <td>5</td>\n",
       "      <td>0</td>\n",
       "      <td>5</td>\n",
       "      <td>...</td>\n",
       "      <td>1</td>\n",
       "      <td>0</td>\n",
       "      <td>0</td>\n",
       "      <td>0</td>\n",
       "      <td>0</td>\n",
       "      <td>5</td>\n",
       "      <td>1</td>\n",
       "      <td>0</td>\n",
       "      <td>0</td>\n",
       "      <td>0</td>\n",
       "    </tr>\n",
       "    <tr>\n",
       "      <th>96804</th>\n",
       "      <td>96805</td>\n",
       "      <td>0</td>\n",
       "      <td>0</td>\n",
       "      <td>0</td>\n",
       "      <td>0</td>\n",
       "      <td>3</td>\n",
       "      <td>0</td>\n",
       "      <td>5</td>\n",
       "      <td>0</td>\n",
       "      <td>5</td>\n",
       "      <td>...</td>\n",
       "      <td>0</td>\n",
       "      <td>0</td>\n",
       "      <td>0</td>\n",
       "      <td>0</td>\n",
       "      <td>0</td>\n",
       "      <td>0</td>\n",
       "      <td>0</td>\n",
       "      <td>0</td>\n",
       "      <td>0</td>\n",
       "      <td>1</td>\n",
       "    </tr>\n",
       "    <tr>\n",
       "      <th>96805</th>\n",
       "      <td>96806</td>\n",
       "      <td>0</td>\n",
       "      <td>0</td>\n",
       "      <td>0</td>\n",
       "      <td>0</td>\n",
       "      <td>3</td>\n",
       "      <td>0</td>\n",
       "      <td>5</td>\n",
       "      <td>0</td>\n",
       "      <td>5</td>\n",
       "      <td>...</td>\n",
       "      <td>2</td>\n",
       "      <td>0</td>\n",
       "      <td>0</td>\n",
       "      <td>0</td>\n",
       "      <td>0</td>\n",
       "      <td>4</td>\n",
       "      <td>3</td>\n",
       "      <td>0</td>\n",
       "      <td>0</td>\n",
       "      <td>0</td>\n",
       "    </tr>\n",
       "  </tbody>\n",
       "</table>\n",
       "<p>96806 rows × 27 columns</p>\n",
       "</div>"
      ],
      "text/plain": [
       "       account_number  bad_flag  onus_attribute_3  onus_attribute_4  \\\n",
       "0                   1         0                 0                 0   \n",
       "1                   2         0                 0                 1   \n",
       "2                   3         0                 0                 0   \n",
       "3                   4         0                 0                 0   \n",
       "4                   5         0                 0                 0   \n",
       "...               ...       ...               ...               ...   \n",
       "96801           96802         0                 0                 0   \n",
       "96802           96803         0                 0                 1   \n",
       "96803           96804         0                 0                 0   \n",
       "96804           96805         0                 0                 0   \n",
       "96805           96806         0                 0                 0   \n",
       "\n",
       "       onus_attribute_18  onus_attribute_19  onus_attribute_21  \\\n",
       "0                      0                  3                  0   \n",
       "1                      0                  3                  0   \n",
       "2                      0                  3                  0   \n",
       "3                      0                  3                  0   \n",
       "4                      0                  3                  0   \n",
       "...                  ...                ...                ...   \n",
       "96801                  0                  3                  0   \n",
       "96802                  0                  3                  0   \n",
       "96803                  0                  3                  0   \n",
       "96804                  0                  3                  0   \n",
       "96805                  0                  3                  0   \n",
       "\n",
       "       onus_attribute_22  onus_attribute_24  onus_attribute_25  ...  \\\n",
       "0                      5                  0                  5  ...   \n",
       "1                      5                  0                  5  ...   \n",
       "2                      5                  0                  5  ...   \n",
       "3                      5                  0                  5  ...   \n",
       "4                      5                  0                  5  ...   \n",
       "...                  ...                ...                ...  ...   \n",
       "96801                  5                  0                  5  ...   \n",
       "96802                  5                  0                  5  ...   \n",
       "96803                  5                  0                  5  ...   \n",
       "96804                  5                  0                  5  ...   \n",
       "96805                  5                  0                  5  ...   \n",
       "\n",
       "       onus_attribute_33  onus_attribute_34  onus_attribute_35  \\\n",
       "0                      0                  0                  0   \n",
       "1                      1                  1                  0   \n",
       "2                      0                  0                  0   \n",
       "3                      0                  0                  0   \n",
       "4                      0                  0                  0   \n",
       "...                  ...                ...                ...   \n",
       "96801                  0                  0                  0   \n",
       "96802                  1                  0                  0   \n",
       "96803                  1                  0                  0   \n",
       "96804                  0                  0                  0   \n",
       "96805                  2                  0                  0   \n",
       "\n",
       "       onus_attribute_36  onus_attribute_37  onus_attribute_38  \\\n",
       "0                      0                  0                  0   \n",
       "1                      0                  0                  5   \n",
       "2                      0                  0                  0   \n",
       "3                      0                  0                  0   \n",
       "4                      0                  0                  0   \n",
       "...                  ...                ...                ...   \n",
       "96801                  0                  0                  2   \n",
       "96802                  1                  0                  4   \n",
       "96803                  0                  0                  5   \n",
       "96804                  0                  0                  0   \n",
       "96805                  0                  0                  4   \n",
       "\n",
       "       onus_attribute_39  onus_attribute_40  onus_attribute_41  \\\n",
       "0                      0                  0                  0   \n",
       "1                      3                  2                  0   \n",
       "2                      0                  0                  0   \n",
       "3                      0                  0                  0   \n",
       "4                      0                  0                  0   \n",
       "...                  ...                ...                ...   \n",
       "96801                  0                  0                  1   \n",
       "96802                  2                  1                  0   \n",
       "96803                  1                  0                  0   \n",
       "96804                  0                  0                  0   \n",
       "96805                  3                  0                  0   \n",
       "\n",
       "       onus_attribute_42  \n",
       "0                      0  \n",
       "1                      0  \n",
       "2                      0  \n",
       "3                      0  \n",
       "4                      0  \n",
       "...                  ...  \n",
       "96801                  0  \n",
       "96802                  1  \n",
       "96803                  0  \n",
       "96804                  1  \n",
       "96805                  0  \n",
       "\n",
       "[96806 rows x 27 columns]"
      ]
     },
     "execution_count": 5,
     "metadata": {},
     "output_type": "execute_result"
    }
   ],
   "source": [
    "# Extracting numerical Cols\n",
    "\n",
    "df_num = df.select_dtypes(int, float)\n",
    "df_num"
   ]
  },
  {
   "cell_type": "code",
   "execution_count": 6,
   "id": "f6694e26",
   "metadata": {
    "execution": {
     "iopub.execute_input": "2025-01-12T04:23:09.353203Z",
     "iopub.status.busy": "2025-01-12T04:23:09.352801Z",
     "iopub.status.idle": "2025-01-12T04:23:09.374256Z",
     "shell.execute_reply": "2025-01-12T04:23:09.372718Z"
    },
    "papermill": {
     "duration": 0.033863,
     "end_time": "2025-01-12T04:23:09.376648",
     "exception": false,
     "start_time": "2025-01-12T04:23:09.342785",
     "status": "completed"
    },
    "tags": []
   },
   "outputs": [
    {
     "name": "stdout",
     "output_type": "stream",
     "text": [
      "<class 'pandas.core.frame.DataFrame'>\n",
      "RangeIndex: 96806 entries, 0 to 96805\n",
      "Data columns (total 27 columns):\n",
      " #   Column             Non-Null Count  Dtype\n",
      "---  ------             --------------  -----\n",
      " 0   account_number     96806 non-null  int64\n",
      " 1   bad_flag           96806 non-null  int64\n",
      " 2   onus_attribute_3   96806 non-null  int64\n",
      " 3   onus_attribute_4   96806 non-null  int64\n",
      " 4   onus_attribute_18  96806 non-null  int64\n",
      " 5   onus_attribute_19  96806 non-null  int64\n",
      " 6   onus_attribute_21  96806 non-null  int64\n",
      " 7   onus_attribute_22  96806 non-null  int64\n",
      " 8   onus_attribute_24  96806 non-null  int64\n",
      " 9   onus_attribute_25  96806 non-null  int64\n",
      " 10  onus_attribute_26  96806 non-null  int64\n",
      " 11  onus_attribute_27  96806 non-null  int64\n",
      " 12  onus_attribute_28  96806 non-null  int64\n",
      " 13  onus_attribute_29  96806 non-null  int64\n",
      " 14  onus_attribute_30  96806 non-null  int64\n",
      " 15  onus_attribute_31  96806 non-null  int64\n",
      " 16  onus_attribute_32  96806 non-null  int64\n",
      " 17  onus_attribute_33  96806 non-null  int64\n",
      " 18  onus_attribute_34  96806 non-null  int64\n",
      " 19  onus_attribute_35  96806 non-null  int64\n",
      " 20  onus_attribute_36  96806 non-null  int64\n",
      " 21  onus_attribute_37  96806 non-null  int64\n",
      " 22  onus_attribute_38  96806 non-null  int64\n",
      " 23  onus_attribute_39  96806 non-null  int64\n",
      " 24  onus_attribute_40  96806 non-null  int64\n",
      " 25  onus_attribute_41  96806 non-null  int64\n",
      " 26  onus_attribute_42  96806 non-null  int64\n",
      "dtypes: int64(27)\n",
      "memory usage: 19.9 MB\n"
     ]
    }
   ],
   "source": [
    "df_num.info()"
   ]
  },
  {
   "cell_type": "markdown",
   "id": "6dbfe443",
   "metadata": {
    "papermill": {
     "duration": 0.008755,
     "end_time": "2025-01-12T04:23:09.394702",
     "exception": false,
     "start_time": "2025-01-12T04:23:09.385947",
     "status": "completed"
    },
    "tags": []
   },
   "source": [
    "- There are no missing values in Numerical Cols\n",
    "- Now we'll try to find Cols that contains only 1 unique value and will drop that col because it doesn't affect the target variable."
   ]
  },
  {
   "cell_type": "code",
   "execution_count": 7,
   "id": "69992348",
   "metadata": {
    "execution": {
     "iopub.execute_input": "2025-01-12T04:23:09.414769Z",
     "iopub.status.busy": "2025-01-12T04:23:09.414424Z",
     "iopub.status.idle": "2025-01-12T04:23:09.442822Z",
     "shell.execute_reply": "2025-01-12T04:23:09.441687Z"
    },
    "papermill": {
     "duration": 0.040518,
     "end_time": "2025-01-12T04:23:09.444901",
     "exception": false,
     "start_time": "2025-01-12T04:23:09.404383",
     "status": "completed"
    },
    "tags": []
   },
   "outputs": [
    {
     "data": {
      "text/plain": [
       "['onus_attribute_28']"
      ]
     },
     "execution_count": 7,
     "metadata": {},
     "output_type": "execute_result"
    }
   ],
   "source": [
    "# Find columns with only one unique value\n",
    "columns_to_drop = [col for col in df_num.columns if df[col].nunique() == 1]\n",
    "\n",
    "columns_to_drop"
   ]
  },
  {
   "cell_type": "code",
   "execution_count": 8,
   "id": "00cb18e5",
   "metadata": {
    "execution": {
     "iopub.execute_input": "2025-01-12T04:23:09.464682Z",
     "iopub.status.busy": "2025-01-12T04:23:09.464355Z",
     "iopub.status.idle": "2025-01-12T04:23:09.472699Z",
     "shell.execute_reply": "2025-01-12T04:23:09.471386Z"
    },
    "papermill": {
     "duration": 0.020298,
     "end_time": "2025-01-12T04:23:09.474524",
     "exception": false,
     "start_time": "2025-01-12T04:23:09.454226",
     "status": "completed"
    },
    "tags": []
   },
   "outputs": [
    {
     "data": {
      "text/plain": [
       "onus_attribute_28\n",
       "0    96806\n",
       "Name: count, dtype: int64"
      ]
     },
     "execution_count": 8,
     "metadata": {},
     "output_type": "execute_result"
    }
   ],
   "source": [
    "df.onus_attribute_28.value_counts()"
   ]
  },
  {
   "cell_type": "code",
   "execution_count": 9,
   "id": "6e2e63c4",
   "metadata": {
    "execution": {
     "iopub.execute_input": "2025-01-12T04:23:09.494569Z",
     "iopub.status.busy": "2025-01-12T04:23:09.494223Z",
     "iopub.status.idle": "2025-01-12T04:23:09.503183Z",
     "shell.execute_reply": "2025-01-12T04:23:09.502082Z"
    },
    "papermill": {
     "duration": 0.021148,
     "end_time": "2025-01-12T04:23:09.505075",
     "exception": false,
     "start_time": "2025-01-12T04:23:09.483927",
     "status": "completed"
    },
    "tags": []
   },
   "outputs": [],
   "source": [
    "df_num.drop(\"onus_attribute_28\", axis = 1, inplace = True)"
   ]
  },
  {
   "cell_type": "markdown",
   "id": "d9f902be",
   "metadata": {
    "papermill": {
     "duration": 0.008997,
     "end_time": "2025-01-12T04:23:09.523389",
     "exception": false,
     "start_time": "2025-01-12T04:23:09.514392",
     "status": "completed"
    },
    "tags": []
   },
   "source": [
    "## Model Training\n",
    "\n",
    "Will check logistic regression first and then we'll try to improve accuracy."
   ]
  },
  {
   "cell_type": "code",
   "execution_count": 10,
   "id": "36c746b0",
   "metadata": {
    "execution": {
     "iopub.execute_input": "2025-01-12T04:23:09.543630Z",
     "iopub.status.busy": "2025-01-12T04:23:09.543295Z",
     "iopub.status.idle": "2025-01-12T04:23:09.552016Z",
     "shell.execute_reply": "2025-01-12T04:23:09.551081Z"
    },
    "papermill": {
     "duration": 0.021043,
     "end_time": "2025-01-12T04:23:09.553915",
     "exception": false,
     "start_time": "2025-01-12T04:23:09.532872",
     "status": "completed"
    },
    "tags": []
   },
   "outputs": [],
   "source": [
    "# Dividing X and y data\n",
    "\n",
    "y = df_num.bad_flag\n",
    "X = df_num.drop(\"bad_flag\", axis = 1)"
   ]
  },
  {
   "cell_type": "code",
   "execution_count": 11,
   "id": "b6e3ee1c",
   "metadata": {
    "execution": {
     "iopub.execute_input": "2025-01-12T04:23:09.573679Z",
     "iopub.status.busy": "2025-01-12T04:23:09.573319Z",
     "iopub.status.idle": "2025-01-12T04:23:11.224244Z",
     "shell.execute_reply": "2025-01-12T04:23:11.223102Z"
    },
    "papermill": {
     "duration": 1.663166,
     "end_time": "2025-01-12T04:23:11.226377",
     "exception": false,
     "start_time": "2025-01-12T04:23:09.563211",
     "status": "completed"
    },
    "tags": []
   },
   "outputs": [],
   "source": [
    "# Importing necessary liberaries\n",
    "\n",
    "from sklearn.model_selection import train_test_split\n",
    "from sklearn.linear_model import LogisticRegression\n",
    "from sklearn.metrics import accuracy_score, classification_report, confusion_matrix\n"
   ]
  },
  {
   "cell_type": "code",
   "execution_count": 12,
   "id": "8c75ad05",
   "metadata": {
    "execution": {
     "iopub.execute_input": "2025-01-12T04:23:11.248152Z",
     "iopub.status.busy": "2025-01-12T04:23:11.247451Z",
     "iopub.status.idle": "2025-01-12T04:23:11.282124Z",
     "shell.execute_reply": "2025-01-12T04:23:11.281149Z"
    },
    "papermill": {
     "duration": 0.047479,
     "end_time": "2025-01-12T04:23:11.284071",
     "exception": false,
     "start_time": "2025-01-12T04:23:11.236592",
     "status": "completed"
    },
    "tags": []
   },
   "outputs": [],
   "source": [
    "# Split the dataset into training and testing sets\n",
    "X_train, X_test, y_train, y_test = train_test_split(X, y, test_size=0.3, random_state=42)\n",
    "\n",
    "# Initialize the Logistic Regression model\n",
    "log_reg = LogisticRegression(max_iter=1000)"
   ]
  },
  {
   "cell_type": "code",
   "execution_count": 13,
   "id": "8f2329f4",
   "metadata": {
    "execution": {
     "iopub.execute_input": "2025-01-12T04:23:11.305838Z",
     "iopub.status.busy": "2025-01-12T04:23:11.305157Z",
     "iopub.status.idle": "2025-01-12T04:23:12.214884Z",
     "shell.execute_reply": "2025-01-12T04:23:12.211959Z"
    },
    "papermill": {
     "duration": 0.924541,
     "end_time": "2025-01-12T04:23:12.218595",
     "exception": false,
     "start_time": "2025-01-12T04:23:11.294054",
     "status": "completed"
    },
    "tags": []
   },
   "outputs": [
    {
     "data": {
      "text/html": [
       "<style>#sk-container-id-1 {color: black;background-color: white;}#sk-container-id-1 pre{padding: 0;}#sk-container-id-1 div.sk-toggleable {background-color: white;}#sk-container-id-1 label.sk-toggleable__label {cursor: pointer;display: block;width: 100%;margin-bottom: 0;padding: 0.3em;box-sizing: border-box;text-align: center;}#sk-container-id-1 label.sk-toggleable__label-arrow:before {content: \"▸\";float: left;margin-right: 0.25em;color: #696969;}#sk-container-id-1 label.sk-toggleable__label-arrow:hover:before {color: black;}#sk-container-id-1 div.sk-estimator:hover label.sk-toggleable__label-arrow:before {color: black;}#sk-container-id-1 div.sk-toggleable__content {max-height: 0;max-width: 0;overflow: hidden;text-align: left;background-color: #f0f8ff;}#sk-container-id-1 div.sk-toggleable__content pre {margin: 0.2em;color: black;border-radius: 0.25em;background-color: #f0f8ff;}#sk-container-id-1 input.sk-toggleable__control:checked~div.sk-toggleable__content {max-height: 200px;max-width: 100%;overflow: auto;}#sk-container-id-1 input.sk-toggleable__control:checked~label.sk-toggleable__label-arrow:before {content: \"▾\";}#sk-container-id-1 div.sk-estimator input.sk-toggleable__control:checked~label.sk-toggleable__label {background-color: #d4ebff;}#sk-container-id-1 div.sk-label input.sk-toggleable__control:checked~label.sk-toggleable__label {background-color: #d4ebff;}#sk-container-id-1 input.sk-hidden--visually {border: 0;clip: rect(1px 1px 1px 1px);clip: rect(1px, 1px, 1px, 1px);height: 1px;margin: -1px;overflow: hidden;padding: 0;position: absolute;width: 1px;}#sk-container-id-1 div.sk-estimator {font-family: monospace;background-color: #f0f8ff;border: 1px dotted black;border-radius: 0.25em;box-sizing: border-box;margin-bottom: 0.5em;}#sk-container-id-1 div.sk-estimator:hover {background-color: #d4ebff;}#sk-container-id-1 div.sk-parallel-item::after {content: \"\";width: 100%;border-bottom: 1px solid gray;flex-grow: 1;}#sk-container-id-1 div.sk-label:hover label.sk-toggleable__label {background-color: #d4ebff;}#sk-container-id-1 div.sk-serial::before {content: \"\";position: absolute;border-left: 1px solid gray;box-sizing: border-box;top: 0;bottom: 0;left: 50%;z-index: 0;}#sk-container-id-1 div.sk-serial {display: flex;flex-direction: column;align-items: center;background-color: white;padding-right: 0.2em;padding-left: 0.2em;position: relative;}#sk-container-id-1 div.sk-item {position: relative;z-index: 1;}#sk-container-id-1 div.sk-parallel {display: flex;align-items: stretch;justify-content: center;background-color: white;position: relative;}#sk-container-id-1 div.sk-item::before, #sk-container-id-1 div.sk-parallel-item::before {content: \"\";position: absolute;border-left: 1px solid gray;box-sizing: border-box;top: 0;bottom: 0;left: 50%;z-index: -1;}#sk-container-id-1 div.sk-parallel-item {display: flex;flex-direction: column;z-index: 1;position: relative;background-color: white;}#sk-container-id-1 div.sk-parallel-item:first-child::after {align-self: flex-end;width: 50%;}#sk-container-id-1 div.sk-parallel-item:last-child::after {align-self: flex-start;width: 50%;}#sk-container-id-1 div.sk-parallel-item:only-child::after {width: 0;}#sk-container-id-1 div.sk-dashed-wrapped {border: 1px dashed gray;margin: 0 0.4em 0.5em 0.4em;box-sizing: border-box;padding-bottom: 0.4em;background-color: white;}#sk-container-id-1 div.sk-label label {font-family: monospace;font-weight: bold;display: inline-block;line-height: 1.2em;}#sk-container-id-1 div.sk-label-container {text-align: center;}#sk-container-id-1 div.sk-container {/* jupyter's `normalize.less` sets `[hidden] { display: none; }` but bootstrap.min.css set `[hidden] { display: none !important; }` so we also need the `!important` here to be able to override the default hidden behavior on the sphinx rendered scikit-learn.org. See: https://github.com/scikit-learn/scikit-learn/issues/21755 */display: inline-block !important;position: relative;}#sk-container-id-1 div.sk-text-repr-fallback {display: none;}</style><div id=\"sk-container-id-1\" class=\"sk-top-container\"><div class=\"sk-text-repr-fallback\"><pre>LogisticRegression(max_iter=1000)</pre><b>In a Jupyter environment, please rerun this cell to show the HTML representation or trust the notebook. <br />On GitHub, the HTML representation is unable to render, please try loading this page with nbviewer.org.</b></div><div class=\"sk-container\" hidden><div class=\"sk-item\"><div class=\"sk-estimator sk-toggleable\"><input class=\"sk-toggleable__control sk-hidden--visually\" id=\"sk-estimator-id-1\" type=\"checkbox\" checked><label for=\"sk-estimator-id-1\" class=\"sk-toggleable__label sk-toggleable__label-arrow\">LogisticRegression</label><div class=\"sk-toggleable__content\"><pre>LogisticRegression(max_iter=1000)</pre></div></div></div></div></div>"
      ],
      "text/plain": [
       "LogisticRegression(max_iter=1000)"
      ]
     },
     "execution_count": 13,
     "metadata": {},
     "output_type": "execute_result"
    }
   ],
   "source": [
    "# Train the model\n",
    "log_reg.fit(X_train, y_train)"
   ]
  },
  {
   "cell_type": "code",
   "execution_count": 14,
   "id": "d87600a8",
   "metadata": {
    "execution": {
     "iopub.execute_input": "2025-01-12T04:23:12.278675Z",
     "iopub.status.busy": "2025-01-12T04:23:12.275946Z",
     "iopub.status.idle": "2025-01-12T04:23:12.291961Z",
     "shell.execute_reply": "2025-01-12T04:23:12.290536Z"
    },
    "papermill": {
     "duration": 0.049236,
     "end_time": "2025-01-12T04:23:12.295744",
     "exception": false,
     "start_time": "2025-01-12T04:23:12.246508",
     "status": "completed"
    },
    "tags": []
   },
   "outputs": [],
   "source": [
    "# Make predictions on the test set\n",
    "y_pred = log_reg.predict(X_test)"
   ]
  },
  {
   "cell_type": "code",
   "execution_count": 15,
   "id": "192a6e14",
   "metadata": {
    "execution": {
     "iopub.execute_input": "2025-01-12T04:23:12.352962Z",
     "iopub.status.busy": "2025-01-12T04:23:12.352351Z",
     "iopub.status.idle": "2025-01-12T04:23:12.440958Z",
     "shell.execute_reply": "2025-01-12T04:23:12.439540Z"
    },
    "papermill": {
     "duration": 0.11987,
     "end_time": "2025-01-12T04:23:12.443049",
     "exception": false,
     "start_time": "2025-01-12T04:23:12.323179",
     "status": "completed"
    },
    "tags": []
   },
   "outputs": [
    {
     "name": "stderr",
     "output_type": "stream",
     "text": [
      "/usr/local/lib/python3.10/dist-packages/sklearn/metrics/_classification.py:1344: UndefinedMetricWarning: Precision and F-score are ill-defined and being set to 0.0 in labels with no predicted samples. Use `zero_division` parameter to control this behavior.\n",
      "  _warn_prf(average, modifier, msg_start, len(result))\n",
      "/usr/local/lib/python3.10/dist-packages/sklearn/metrics/_classification.py:1344: UndefinedMetricWarning: Precision and F-score are ill-defined and being set to 0.0 in labels with no predicted samples. Use `zero_division` parameter to control this behavior.\n",
      "  _warn_prf(average, modifier, msg_start, len(result))\n",
      "/usr/local/lib/python3.10/dist-packages/sklearn/metrics/_classification.py:1344: UndefinedMetricWarning: Precision and F-score are ill-defined and being set to 0.0 in labels with no predicted samples. Use `zero_division` parameter to control this behavior.\n",
      "  _warn_prf(average, modifier, msg_start, len(result))\n"
     ]
    }
   ],
   "source": [
    "# Evaluate the model\n",
    "accuracy = accuracy_score(y_test, y_pred)\n",
    "conf_matrix = confusion_matrix(y_test, y_pred)\n",
    "report = classification_report(y_test, y_pred)"
   ]
  },
  {
   "cell_type": "code",
   "execution_count": 16,
   "id": "f889d054",
   "metadata": {
    "execution": {
     "iopub.execute_input": "2025-01-12T04:23:12.465036Z",
     "iopub.status.busy": "2025-01-12T04:23:12.464636Z",
     "iopub.status.idle": "2025-01-12T04:23:12.472191Z",
     "shell.execute_reply": "2025-01-12T04:23:12.470970Z"
    },
    "papermill": {
     "duration": 0.020897,
     "end_time": "2025-01-12T04:23:12.474241",
     "exception": false,
     "start_time": "2025-01-12T04:23:12.453344",
     "status": "completed"
    },
    "tags": []
   },
   "outputs": [
    {
     "name": "stdout",
     "output_type": "stream",
     "text": [
      "Logistic Regression Results\n",
      "----------------------------\n",
      "Accuracy: 0.99\n",
      "\n",
      "Confusion Matrix:\n",
      "[[28625     0]\n",
      " [  417     0]]\n",
      "\n",
      "Classification Report:\n",
      "              precision    recall  f1-score   support\n",
      "\n",
      "           0       0.99      1.00      0.99     28625\n",
      "           1       0.00      0.00      0.00       417\n",
      "\n",
      "    accuracy                           0.99     29042\n",
      "   macro avg       0.49      0.50      0.50     29042\n",
      "weighted avg       0.97      0.99      0.98     29042\n",
      "\n"
     ]
    }
   ],
   "source": [
    "# Output results\n",
    "print(\"Logistic Regression Results\")\n",
    "print(\"----------------------------\")\n",
    "print(f\"Accuracy: {accuracy:.2f}\")\n",
    "print(\"\\nConfusion Matrix:\")\n",
    "print(conf_matrix)\n",
    "print(\"\\nClassification Report:\")\n",
    "print(report)\n"
   ]
  },
  {
   "cell_type": "markdown",
   "id": "3839788d",
   "metadata": {
    "papermill": {
     "duration": 0.00989,
     "end_time": "2025-01-12T04:23:12.493928",
     "exception": false,
     "start_time": "2025-01-12T04:23:12.484038",
     "status": "completed"
    },
    "tags": []
   },
   "source": [
    "\n",
    "The classification report indicates a significant imbalance in the model's performance between the two classes (0 and 1). Here's a detailed analysis:\n",
    "\n",
    "**Observations from the Report** :\n",
    "1. Class 0:\n",
    "\n",
    "    - Precision: 0.99 → Nearly all predictions for class 0 are correct.\n",
    "    - Recall: 1.00 → Almost all actual instances of class 0 are correctly identified.\n",
    "    - F1-Score: 0.99 → Indicates excellent balance for this class.\n",
    "2. Class 1:\n",
    "\n",
    "    - Precision: 0.00 → The model fails to identify any correct positives for class 1.\n",
    "    - Recall: 0.00 → None of the actual instances of class 1 are identified.\n",
    "    - F1-Score: 0.00 → Reflects the complete failure to handle this class.\n",
    "3. Macro Average:\n",
    "\n",
    "    - Precision/Recall/F1-Score: ~0.49–0.50 → Indicates poor balance across classes since these metrics treat both classes equally.\n",
    "4. Weighted Average:\n",
    "\n",
    "    - Precision/Recall/F1-Score: ~0.97–0.99 → Heavily skewed by class 0, which dominates the dataset."
   ]
  },
  {
   "cell_type": "markdown",
   "id": "af42eec2",
   "metadata": {
    "papermill": {
     "duration": 0.009322,
     "end_time": "2025-01-12T04:23:12.512732",
     "exception": false,
     "start_time": "2025-01-12T04:23:12.503410",
     "status": "completed"
    },
    "tags": []
   },
   "source": [
    "**This classification report is not good for the following reasons:**\n",
    "\n",
    "1. Class Imbalance: The dataset is heavily imbalanced:\n",
    "   - Class 0 has 28,625 instances, while class 1 has only 417 instances.\n",
    "\n",
    "2. Model Bias: The model is biased toward the majority class (0) and ignores the minority class (1).\n",
    "\n",
    "3. Poor Recall for Class 1: Failing to identify any instances of class 1 could have serious consequences in fraud detection."
   ]
  },
  {
   "cell_type": "markdown",
   "id": "8d5e915f",
   "metadata": {
    "papermill": {
     "duration": 0.009133,
     "end_time": "2025-01-12T04:23:12.531513",
     "exception": false,
     "start_time": "2025-01-12T04:23:12.522380",
     "status": "completed"
    },
    "tags": []
   },
   "source": [
    "## Improve Model's performance \n",
    "\n",
    "To improve model's performance on this imbalanced dataset, we'll be using various strategies. We'll use a combination of oversampling, class weights, and a better evaluation strategy to ensure the model performs well on both the majority and minority classes."
   ]
  },
  {
   "cell_type": "code",
   "execution_count": 17,
   "id": "e89a0d0a",
   "metadata": {
    "execution": {
     "iopub.execute_input": "2025-01-12T04:23:12.551896Z",
     "iopub.status.busy": "2025-01-12T04:23:12.551507Z",
     "iopub.status.idle": "2025-01-12T04:23:13.200914Z",
     "shell.execute_reply": "2025-01-12T04:23:13.199687Z"
    },
    "papermill": {
     "duration": 0.661934,
     "end_time": "2025-01-12T04:23:13.203088",
     "exception": false,
     "start_time": "2025-01-12T04:23:12.541154",
     "status": "completed"
    },
    "tags": []
   },
   "outputs": [],
   "source": [
    "from sklearn.model_selection import train_test_split\n",
    "from sklearn.linear_model import LogisticRegression\n",
    "from sklearn.metrics import classification_report, confusion_matrix, roc_auc_score\n",
    "from imblearn.over_sampling import SMOTE"
   ]
  },
  {
   "cell_type": "markdown",
   "id": "1ebb108e",
   "metadata": {
    "papermill": {
     "duration": 0.009226,
     "end_time": "2025-01-12T04:23:13.222868",
     "exception": false,
     "start_time": "2025-01-12T04:23:13.213642",
     "status": "completed"
    },
    "tags": []
   },
   "source": [
    "## Oversampling with SMOTE"
   ]
  },
  {
   "cell_type": "code",
   "execution_count": 18,
   "id": "41785725",
   "metadata": {
    "execution": {
     "iopub.execute_input": "2025-01-12T04:23:13.243821Z",
     "iopub.status.busy": "2025-01-12T04:23:13.243308Z",
     "iopub.status.idle": "2025-01-12T04:23:13.476521Z",
     "shell.execute_reply": "2025-01-12T04:23:13.475278Z"
    },
    "papermill": {
     "duration": 0.24617,
     "end_time": "2025-01-12T04:23:13.478478",
     "exception": false,
     "start_time": "2025-01-12T04:23:13.232308",
     "status": "completed"
    },
    "tags": []
   },
   "outputs": [
    {
     "name": "stdout",
     "output_type": "stream",
     "text": [
      "Class Distribution After SMOTE:\n",
      "bad_flag\n",
      "0    95434\n",
      "1    95434\n",
      "Name: count, dtype: int64\n"
     ]
    }
   ],
   "source": [
    "# Apply SMOTE to balance the training dataset\n",
    "\n",
    "smote = SMOTE(random_state=42)\n",
    "X_train_smote, y_train_smote = smote.fit_resample(X, y)\n",
    "\n",
    "print(\"Class Distribution After SMOTE:\")\n",
    "print(pd.Series(y_train_smote).value_counts())"
   ]
  },
  {
   "cell_type": "code",
   "execution_count": 19,
   "id": "be8c5b4a",
   "metadata": {
    "execution": {
     "iopub.execute_input": "2025-01-12T04:23:13.499757Z",
     "iopub.status.busy": "2025-01-12T04:23:13.499366Z",
     "iopub.status.idle": "2025-01-12T04:23:13.580434Z",
     "shell.execute_reply": "2025-01-12T04:23:13.579412Z"
    },
    "papermill": {
     "duration": 0.094059,
     "end_time": "2025-01-12T04:23:13.582389",
     "exception": false,
     "start_time": "2025-01-12T04:23:13.488330",
     "status": "completed"
    },
    "tags": []
   },
   "outputs": [],
   "source": [
    "# Split the dataset into training and testing sets\n",
    "Xtrain, Xtest, ytrain, ytest = train_test_split(X_train_smote, y_train_smote, test_size=0.3, random_state=42)"
   ]
  },
  {
   "cell_type": "markdown",
   "id": "d126be40",
   "metadata": {
    "papermill": {
     "duration": 0.009767,
     "end_time": "2025-01-12T04:23:13.602038",
     "exception": false,
     "start_time": "2025-01-12T04:23:13.592271",
     "status": "completed"
    },
    "tags": []
   },
   "source": [
    "## Train Logistic Regression with Class Weights"
   ]
  },
  {
   "cell_type": "code",
   "execution_count": 20,
   "id": "3760fc74",
   "metadata": {
    "execution": {
     "iopub.execute_input": "2025-01-12T04:23:13.622536Z",
     "iopub.status.busy": "2025-01-12T04:23:13.622193Z",
     "iopub.status.idle": "2025-01-12T04:23:13.778063Z",
     "shell.execute_reply": "2025-01-12T04:23:13.776255Z"
    },
    "papermill": {
     "duration": 0.16917,
     "end_time": "2025-01-12T04:23:13.780791",
     "exception": false,
     "start_time": "2025-01-12T04:23:13.611621",
     "status": "completed"
    },
    "tags": []
   },
   "outputs": [
    {
     "data": {
      "text/html": [
       "<style>#sk-container-id-2 {color: black;background-color: white;}#sk-container-id-2 pre{padding: 0;}#sk-container-id-2 div.sk-toggleable {background-color: white;}#sk-container-id-2 label.sk-toggleable__label {cursor: pointer;display: block;width: 100%;margin-bottom: 0;padding: 0.3em;box-sizing: border-box;text-align: center;}#sk-container-id-2 label.sk-toggleable__label-arrow:before {content: \"▸\";float: left;margin-right: 0.25em;color: #696969;}#sk-container-id-2 label.sk-toggleable__label-arrow:hover:before {color: black;}#sk-container-id-2 div.sk-estimator:hover label.sk-toggleable__label-arrow:before {color: black;}#sk-container-id-2 div.sk-toggleable__content {max-height: 0;max-width: 0;overflow: hidden;text-align: left;background-color: #f0f8ff;}#sk-container-id-2 div.sk-toggleable__content pre {margin: 0.2em;color: black;border-radius: 0.25em;background-color: #f0f8ff;}#sk-container-id-2 input.sk-toggleable__control:checked~div.sk-toggleable__content {max-height: 200px;max-width: 100%;overflow: auto;}#sk-container-id-2 input.sk-toggleable__control:checked~label.sk-toggleable__label-arrow:before {content: \"▾\";}#sk-container-id-2 div.sk-estimator input.sk-toggleable__control:checked~label.sk-toggleable__label {background-color: #d4ebff;}#sk-container-id-2 div.sk-label input.sk-toggleable__control:checked~label.sk-toggleable__label {background-color: #d4ebff;}#sk-container-id-2 input.sk-hidden--visually {border: 0;clip: rect(1px 1px 1px 1px);clip: rect(1px, 1px, 1px, 1px);height: 1px;margin: -1px;overflow: hidden;padding: 0;position: absolute;width: 1px;}#sk-container-id-2 div.sk-estimator {font-family: monospace;background-color: #f0f8ff;border: 1px dotted black;border-radius: 0.25em;box-sizing: border-box;margin-bottom: 0.5em;}#sk-container-id-2 div.sk-estimator:hover {background-color: #d4ebff;}#sk-container-id-2 div.sk-parallel-item::after {content: \"\";width: 100%;border-bottom: 1px solid gray;flex-grow: 1;}#sk-container-id-2 div.sk-label:hover label.sk-toggleable__label {background-color: #d4ebff;}#sk-container-id-2 div.sk-serial::before {content: \"\";position: absolute;border-left: 1px solid gray;box-sizing: border-box;top: 0;bottom: 0;left: 50%;z-index: 0;}#sk-container-id-2 div.sk-serial {display: flex;flex-direction: column;align-items: center;background-color: white;padding-right: 0.2em;padding-left: 0.2em;position: relative;}#sk-container-id-2 div.sk-item {position: relative;z-index: 1;}#sk-container-id-2 div.sk-parallel {display: flex;align-items: stretch;justify-content: center;background-color: white;position: relative;}#sk-container-id-2 div.sk-item::before, #sk-container-id-2 div.sk-parallel-item::before {content: \"\";position: absolute;border-left: 1px solid gray;box-sizing: border-box;top: 0;bottom: 0;left: 50%;z-index: -1;}#sk-container-id-2 div.sk-parallel-item {display: flex;flex-direction: column;z-index: 1;position: relative;background-color: white;}#sk-container-id-2 div.sk-parallel-item:first-child::after {align-self: flex-end;width: 50%;}#sk-container-id-2 div.sk-parallel-item:last-child::after {align-self: flex-start;width: 50%;}#sk-container-id-2 div.sk-parallel-item:only-child::after {width: 0;}#sk-container-id-2 div.sk-dashed-wrapped {border: 1px dashed gray;margin: 0 0.4em 0.5em 0.4em;box-sizing: border-box;padding-bottom: 0.4em;background-color: white;}#sk-container-id-2 div.sk-label label {font-family: monospace;font-weight: bold;display: inline-block;line-height: 1.2em;}#sk-container-id-2 div.sk-label-container {text-align: center;}#sk-container-id-2 div.sk-container {/* jupyter's `normalize.less` sets `[hidden] { display: none; }` but bootstrap.min.css set `[hidden] { display: none !important; }` so we also need the `!important` here to be able to override the default hidden behavior on the sphinx rendered scikit-learn.org. See: https://github.com/scikit-learn/scikit-learn/issues/21755 */display: inline-block !important;position: relative;}#sk-container-id-2 div.sk-text-repr-fallback {display: none;}</style><div id=\"sk-container-id-2\" class=\"sk-top-container\"><div class=\"sk-text-repr-fallback\"><pre>LogisticRegression(class_weight=&#x27;balanced&#x27;, max_iter=1000, random_state=42)</pre><b>In a Jupyter environment, please rerun this cell to show the HTML representation or trust the notebook. <br />On GitHub, the HTML representation is unable to render, please try loading this page with nbviewer.org.</b></div><div class=\"sk-container\" hidden><div class=\"sk-item\"><div class=\"sk-estimator sk-toggleable\"><input class=\"sk-toggleable__control sk-hidden--visually\" id=\"sk-estimator-id-2\" type=\"checkbox\" checked><label for=\"sk-estimator-id-2\" class=\"sk-toggleable__label sk-toggleable__label-arrow\">LogisticRegression</label><div class=\"sk-toggleable__content\"><pre>LogisticRegression(class_weight=&#x27;balanced&#x27;, max_iter=1000, random_state=42)</pre></div></div></div></div></div>"
      ],
      "text/plain": [
       "LogisticRegression(class_weight='balanced', max_iter=1000, random_state=42)"
      ]
     },
     "execution_count": 20,
     "metadata": {},
     "output_type": "execute_result"
    }
   ],
   "source": [
    "# Train logistic regression with class weights\n",
    "model = LogisticRegression(class_weight='balanced', max_iter=1000, random_state=42)\n",
    "model.fit(Xtrain, ytrain)"
   ]
  },
  {
   "cell_type": "code",
   "execution_count": 21,
   "id": "e6fb1553",
   "metadata": {
    "execution": {
     "iopub.execute_input": "2025-01-12T04:23:13.839644Z",
     "iopub.status.busy": "2025-01-12T04:23:13.839071Z",
     "iopub.status.idle": "2025-01-12T04:23:14.087476Z",
     "shell.execute_reply": "2025-01-12T04:23:14.086279Z"
    },
    "papermill": {
     "duration": 0.280036,
     "end_time": "2025-01-12T04:23:14.089185",
     "exception": false,
     "start_time": "2025-01-12T04:23:13.809149",
     "status": "completed"
    },
    "tags": []
   },
   "outputs": [
    {
     "name": "stdout",
     "output_type": "stream",
     "text": [
      "\n",
      "Classification Report:\n",
      "              precision    recall  f1-score   support\n",
      "\n",
      "           0       1.00      0.00      0.00     28547\n",
      "           1       0.50      1.00      0.67     28714\n",
      "\n",
      "    accuracy                           0.50     57261\n",
      "   macro avg       0.75      0.50      0.33     57261\n",
      "weighted avg       0.75      0.50      0.33     57261\n",
      "\n",
      "\n",
      "Confusion Matrix:\n",
      "[[    1 28546]\n",
      " [    0 28714]]\n",
      "\n",
      "ROC-AUC Score: 0.49\n"
     ]
    }
   ],
   "source": [
    "# Make predictions\n",
    "y_pred_new = model.predict(Xtest)\n",
    "y_pred_proba = model.predict_proba(Xtest)[:, 1]\n",
    "\n",
    "# Evaluate the model\n",
    "print(\"\\nClassification Report:\")\n",
    "print(classification_report(ytest, y_pred_new))\n",
    "\n",
    "print(\"\\nConfusion Matrix:\")\n",
    "print(confusion_matrix(ytest, y_pred_new))\n",
    "\n",
    "# Compute ROC-AUC score\n",
    "roc_auc = roc_auc_score(ytest, y_pred_proba)\n",
    "print(f\"\\nROC-AUC Score: {roc_auc:.2f}\")"
   ]
  },
  {
   "cell_type": "markdown",
   "id": "b3d48c4d",
   "metadata": {
    "papermill": {
     "duration": 0.010009,
     "end_time": "2025-01-12T04:23:14.109434",
     "exception": false,
     "start_time": "2025-01-12T04:23:14.099425",
     "status": "completed"
    },
    "tags": []
   },
   "source": [
    "- The model is still not performing well.\n",
    "- Now we'll try another model to improve the performance"
   ]
  },
  {
   "cell_type": "markdown",
   "id": "47d76785",
   "metadata": {
    "papermill": {
     "duration": 0.009682,
     "end_time": "2025-01-12T04:23:14.129845",
     "exception": false,
     "start_time": "2025-01-12T04:23:14.120163",
     "status": "completed"
    },
    "tags": []
   },
   "source": [
    "## Training with Random Forest"
   ]
  },
  {
   "cell_type": "code",
   "execution_count": 22,
   "id": "bb22b7e9",
   "metadata": {
    "execution": {
     "iopub.execute_input": "2025-01-12T04:23:14.154161Z",
     "iopub.status.busy": "2025-01-12T04:23:14.153720Z",
     "iopub.status.idle": "2025-01-12T04:23:37.574996Z",
     "shell.execute_reply": "2025-01-12T04:23:37.574022Z"
    },
    "papermill": {
     "duration": 23.435234,
     "end_time": "2025-01-12T04:23:37.576716",
     "exception": false,
     "start_time": "2025-01-12T04:23:14.141482",
     "status": "completed"
    },
    "tags": []
   },
   "outputs": [
    {
     "data": {
      "text/html": [
       "<style>#sk-container-id-3 {color: black;background-color: white;}#sk-container-id-3 pre{padding: 0;}#sk-container-id-3 div.sk-toggleable {background-color: white;}#sk-container-id-3 label.sk-toggleable__label {cursor: pointer;display: block;width: 100%;margin-bottom: 0;padding: 0.3em;box-sizing: border-box;text-align: center;}#sk-container-id-3 label.sk-toggleable__label-arrow:before {content: \"▸\";float: left;margin-right: 0.25em;color: #696969;}#sk-container-id-3 label.sk-toggleable__label-arrow:hover:before {color: black;}#sk-container-id-3 div.sk-estimator:hover label.sk-toggleable__label-arrow:before {color: black;}#sk-container-id-3 div.sk-toggleable__content {max-height: 0;max-width: 0;overflow: hidden;text-align: left;background-color: #f0f8ff;}#sk-container-id-3 div.sk-toggleable__content pre {margin: 0.2em;color: black;border-radius: 0.25em;background-color: #f0f8ff;}#sk-container-id-3 input.sk-toggleable__control:checked~div.sk-toggleable__content {max-height: 200px;max-width: 100%;overflow: auto;}#sk-container-id-3 input.sk-toggleable__control:checked~label.sk-toggleable__label-arrow:before {content: \"▾\";}#sk-container-id-3 div.sk-estimator input.sk-toggleable__control:checked~label.sk-toggleable__label {background-color: #d4ebff;}#sk-container-id-3 div.sk-label input.sk-toggleable__control:checked~label.sk-toggleable__label {background-color: #d4ebff;}#sk-container-id-3 input.sk-hidden--visually {border: 0;clip: rect(1px 1px 1px 1px);clip: rect(1px, 1px, 1px, 1px);height: 1px;margin: -1px;overflow: hidden;padding: 0;position: absolute;width: 1px;}#sk-container-id-3 div.sk-estimator {font-family: monospace;background-color: #f0f8ff;border: 1px dotted black;border-radius: 0.25em;box-sizing: border-box;margin-bottom: 0.5em;}#sk-container-id-3 div.sk-estimator:hover {background-color: #d4ebff;}#sk-container-id-3 div.sk-parallel-item::after {content: \"\";width: 100%;border-bottom: 1px solid gray;flex-grow: 1;}#sk-container-id-3 div.sk-label:hover label.sk-toggleable__label {background-color: #d4ebff;}#sk-container-id-3 div.sk-serial::before {content: \"\";position: absolute;border-left: 1px solid gray;box-sizing: border-box;top: 0;bottom: 0;left: 50%;z-index: 0;}#sk-container-id-3 div.sk-serial {display: flex;flex-direction: column;align-items: center;background-color: white;padding-right: 0.2em;padding-left: 0.2em;position: relative;}#sk-container-id-3 div.sk-item {position: relative;z-index: 1;}#sk-container-id-3 div.sk-parallel {display: flex;align-items: stretch;justify-content: center;background-color: white;position: relative;}#sk-container-id-3 div.sk-item::before, #sk-container-id-3 div.sk-parallel-item::before {content: \"\";position: absolute;border-left: 1px solid gray;box-sizing: border-box;top: 0;bottom: 0;left: 50%;z-index: -1;}#sk-container-id-3 div.sk-parallel-item {display: flex;flex-direction: column;z-index: 1;position: relative;background-color: white;}#sk-container-id-3 div.sk-parallel-item:first-child::after {align-self: flex-end;width: 50%;}#sk-container-id-3 div.sk-parallel-item:last-child::after {align-self: flex-start;width: 50%;}#sk-container-id-3 div.sk-parallel-item:only-child::after {width: 0;}#sk-container-id-3 div.sk-dashed-wrapped {border: 1px dashed gray;margin: 0 0.4em 0.5em 0.4em;box-sizing: border-box;padding-bottom: 0.4em;background-color: white;}#sk-container-id-3 div.sk-label label {font-family: monospace;font-weight: bold;display: inline-block;line-height: 1.2em;}#sk-container-id-3 div.sk-label-container {text-align: center;}#sk-container-id-3 div.sk-container {/* jupyter's `normalize.less` sets `[hidden] { display: none; }` but bootstrap.min.css set `[hidden] { display: none !important; }` so we also need the `!important` here to be able to override the default hidden behavior on the sphinx rendered scikit-learn.org. See: https://github.com/scikit-learn/scikit-learn/issues/21755 */display: inline-block !important;position: relative;}#sk-container-id-3 div.sk-text-repr-fallback {display: none;}</style><div id=\"sk-container-id-3\" class=\"sk-top-container\"><div class=\"sk-text-repr-fallback\"><pre>RandomForestClassifier()</pre><b>In a Jupyter environment, please rerun this cell to show the HTML representation or trust the notebook. <br />On GitHub, the HTML representation is unable to render, please try loading this page with nbviewer.org.</b></div><div class=\"sk-container\" hidden><div class=\"sk-item\"><div class=\"sk-estimator sk-toggleable\"><input class=\"sk-toggleable__control sk-hidden--visually\" id=\"sk-estimator-id-3\" type=\"checkbox\" checked><label for=\"sk-estimator-id-3\" class=\"sk-toggleable__label sk-toggleable__label-arrow\">RandomForestClassifier</label><div class=\"sk-toggleable__content\"><pre>RandomForestClassifier()</pre></div></div></div></div></div>"
      ],
      "text/plain": [
       "RandomForestClassifier()"
      ]
     },
     "execution_count": 22,
     "metadata": {},
     "output_type": "execute_result"
    }
   ],
   "source": [
    "# RF\n",
    "from sklearn.ensemble import RandomForestClassifier\n",
    "rf = RandomForestClassifier()\n",
    "rf.fit(Xtrain, ytrain)"
   ]
  },
  {
   "cell_type": "code",
   "execution_count": 23,
   "id": "6828952d",
   "metadata": {
    "execution": {
     "iopub.execute_input": "2025-01-12T04:23:37.598351Z",
     "iopub.status.busy": "2025-01-12T04:23:37.598013Z",
     "iopub.status.idle": "2025-01-12T04:23:41.284436Z",
     "shell.execute_reply": "2025-01-12T04:23:41.283513Z"
    },
    "papermill": {
     "duration": 3.699171,
     "end_time": "2025-01-12T04:23:41.286424",
     "exception": false,
     "start_time": "2025-01-12T04:23:37.587253",
     "status": "completed"
    },
    "tags": []
   },
   "outputs": [],
   "source": [
    "# Make predictions\n",
    "y_pred_new = rf.predict(Xtest)\n",
    "y_pred_proba = rf.predict_proba(Xtest)[:, 1]"
   ]
  },
  {
   "cell_type": "code",
   "execution_count": 24,
   "id": "e92d0959",
   "metadata": {
    "execution": {
     "iopub.execute_input": "2025-01-12T04:23:41.309851Z",
     "iopub.status.busy": "2025-01-12T04:23:41.309508Z",
     "iopub.status.idle": "2025-01-12T04:23:41.443862Z",
     "shell.execute_reply": "2025-01-12T04:23:41.442575Z"
    },
    "papermill": {
     "duration": 0.147651,
     "end_time": "2025-01-12T04:23:41.445881",
     "exception": false,
     "start_time": "2025-01-12T04:23:41.298230",
     "status": "completed"
    },
    "tags": []
   },
   "outputs": [
    {
     "name": "stdout",
     "output_type": "stream",
     "text": [
      "\n",
      "Classification Report:\n",
      "              precision    recall  f1-score   support\n",
      "\n",
      "           0       0.94      0.91      0.92     28547\n",
      "           1       0.91      0.94      0.92     28714\n",
      "\n",
      "    accuracy                           0.92     57261\n",
      "   macro avg       0.92      0.92      0.92     57261\n",
      "weighted avg       0.92      0.92      0.92     57261\n",
      "\n",
      "\n",
      "Confusion Matrix:\n",
      "[[25842  2705]\n",
      " [ 1714 27000]]\n"
     ]
    }
   ],
   "source": [
    "# Evaluate the model\n",
    "print(\"\\nClassification Report:\")\n",
    "print(classification_report(ytest, y_pred_new))\n",
    "\n",
    "print(\"\\nConfusion Matrix:\")\n",
    "print(confusion_matrix(ytest, y_pred_new))"
   ]
  },
  {
   "cell_type": "code",
   "execution_count": 25,
   "id": "487d3920",
   "metadata": {
    "execution": {
     "iopub.execute_input": "2025-01-12T04:23:41.469910Z",
     "iopub.status.busy": "2025-01-12T04:23:41.469526Z",
     "iopub.status.idle": "2025-01-12T04:23:41.492651Z",
     "shell.execute_reply": "2025-01-12T04:23:41.491460Z"
    },
    "papermill": {
     "duration": 0.036702,
     "end_time": "2025-01-12T04:23:41.494522",
     "exception": false,
     "start_time": "2025-01-12T04:23:41.457820",
     "status": "completed"
    },
    "tags": []
   },
   "outputs": [
    {
     "name": "stdout",
     "output_type": "stream",
     "text": [
      "\n",
      "ROC-AUC Score: 0.97\n"
     ]
    }
   ],
   "source": [
    "# Compute ROC-AUC score\n",
    "roc_auc = roc_auc_score(ytest, y_pred_proba)\n",
    "print(f\"\\nROC-AUC Score: {roc_auc:.2f}\")"
   ]
  },
  {
   "cell_type": "markdown",
   "id": "79d5105f",
   "metadata": {
    "papermill": {
     "duration": 0.010031,
     "end_time": "2025-01-12T04:23:41.515308",
     "exception": false,
     "start_time": "2025-01-12T04:23:41.505277",
     "status": "completed"
    },
    "tags": []
   },
   "source": [
    "- Now we've a good ROC - AUC Score."
   ]
  },
  {
   "cell_type": "markdown",
   "id": "eb79595b",
   "metadata": {
    "papermill": {
     "duration": 0.009805,
     "end_time": "2025-01-12T04:23:41.535380",
     "exception": false,
     "start_time": "2025-01-12T04:23:41.525575",
     "status": "completed"
    },
    "tags": []
   },
   "source": [
    "The Classification Report with Tuned Threshold you provided demonstrates good overall performance. Here's an analysis of the results:\n",
    "\n",
    "**Performance Metrics**\n",
    "1. Class 0 (Negative Class):\n",
    "\n",
    "\n",
    "> Precision: 0.94 → 94% of the predicted 0 instances are correct.\n",
    "\n",
    "> Recall: 0.90 → The model captures 90% of the actual 0 instances.\n",
    "\n",
    "> F1-Score: 0.92 → Indicates a good balance between precision and recall.\n",
    "\n",
    "2. Class 1 (Positive Class):\n",
    "\n",
    "\n",
    "> Precision: 0.91 → 91% of the predicted 1 instances are correct.\n",
    ">\n",
    "> Recall: 0.94 → The model captures 94% of the actual 1 instances.\n",
    ">\n",
    "> F1-Score: 0.92 → Indicates a good balance between precision and recall.\n",
    "\n",
    "3. Overall Metrics:\n",
    "\n",
    "\n",
    "> Accuracy: 0.92 → 92% of all predictions are correct.\n",
    ">\n",
    "> Macro Average: Precision, recall, and F1-score for both classes are balanced at 0.92.\n",
    ">\n",
    "> Weighted Average: Similar to the macro average because the class distributions are relatively even.\n"
   ]
  },
  {
   "cell_type": "markdown",
   "id": "bd82162f",
   "metadata": {
    "papermill": {
     "duration": 0.010009,
     "end_time": "2025-01-12T04:23:41.555440",
     "exception": false,
     "start_time": "2025-01-12T04:23:41.545431",
     "status": "completed"
    },
    "tags": []
   },
   "source": [
    "**Strengths**\n",
    "1. **Balanced Performance:** The precision, recall, and F1-scores for both classes are high and nearly identical, indicating the model is not biased toward any particular class.\n",
    "2. **High Recall for Both Classes:** Both classes have high recall (≥90%), which means the model is effectively identifying true positives for each class.\n",
    "3. **Good F1-Scores:** The F1-scores for both classes are high, indicating a strong balance between precision and recall."
   ]
  },
  {
   "cell_type": "markdown",
   "id": "7ec2c15c",
   "metadata": {
    "papermill": {
     "duration": 0.009826,
     "end_time": "2025-01-12T04:23:41.575334",
     "exception": false,
     "start_time": "2025-01-12T04:23:41.565508",
     "status": "completed"
    },
    "tags": []
   },
   "source": [
    "## Adjust decision threshold"
   ]
  },
  {
   "cell_type": "code",
   "execution_count": 26,
   "id": "32fe7de6",
   "metadata": {
    "execution": {
     "iopub.execute_input": "2025-01-12T04:23:41.597382Z",
     "iopub.status.busy": "2025-01-12T04:23:41.597038Z",
     "iopub.status.idle": "2025-01-12T04:23:41.610928Z",
     "shell.execute_reply": "2025-01-12T04:23:41.609552Z"
    },
    "papermill": {
     "duration": 0.02715,
     "end_time": "2025-01-12T04:23:41.612774",
     "exception": false,
     "start_time": "2025-01-12T04:23:41.585624",
     "status": "completed"
    },
    "tags": []
   },
   "outputs": [
    {
     "name": "stdout",
     "output_type": "stream",
     "text": [
      "\n",
      "Optimal Threshold for F1-Score: 0.48\n"
     ]
    }
   ],
   "source": [
    "from sklearn.metrics import precision_recall_curve\n",
    "\n",
    "# Adjust decision threshold\n",
    "precision, recall, thresholds = precision_recall_curve(ytest, y_pred_proba)\n",
    "\n",
    "# Find the threshold with a good balance\n",
    "f1_scores = 2 * (precision * recall) / (precision + recall)\n",
    "optimal_idx = np.argmax(f1_scores)\n",
    "optimal_threshold = thresholds[optimal_idx]\n",
    "\n",
    "print(f\"\\nOptimal Threshold for F1-Score: {optimal_threshold:.2f}\")"
   ]
  },
  {
   "cell_type": "code",
   "execution_count": 27,
   "id": "2db443e2",
   "metadata": {
    "execution": {
     "iopub.execute_input": "2025-01-12T04:23:41.634946Z",
     "iopub.status.busy": "2025-01-12T04:23:41.634542Z",
     "iopub.status.idle": "2025-01-12T04:23:41.771114Z",
     "shell.execute_reply": "2025-01-12T04:23:41.769649Z"
    },
    "papermill": {
     "duration": 0.150231,
     "end_time": "2025-01-12T04:23:41.773440",
     "exception": false,
     "start_time": "2025-01-12T04:23:41.623209",
     "status": "completed"
    },
    "tags": []
   },
   "outputs": [
    {
     "name": "stdout",
     "output_type": "stream",
     "text": [
      "\n",
      "Classification Report with Tuned Threshold:\n",
      "              precision    recall  f1-score   support\n",
      "\n",
      "           0       0.94      0.90      0.92     28547\n",
      "           1       0.91      0.94      0.92     28714\n",
      "\n",
      "    accuracy                           0.92     57261\n",
      "   macro avg       0.92      0.92      0.92     57261\n",
      "weighted avg       0.92      0.92      0.92     57261\n",
      "\n",
      "\n",
      "Confusion Matrix with Tuned Threshold:\n",
      "[[25794  2753]\n",
      " [ 1665 27049]]\n"
     ]
    }
   ],
   "source": [
    "# Make predictions with the new threshold\n",
    "y_pred_new_threshold = (y_pred_proba >= optimal_threshold).astype(int)\n",
    "\n",
    "# Reevaluate the model\n",
    "print(\"\\nClassification Report with Tuned Threshold:\")\n",
    "print(classification_report(ytest, y_pred_new_threshold))\n",
    "\n",
    "print(\"\\nConfusion Matrix with Tuned Threshold:\")\n",
    "print(confusion_matrix(ytest, y_pred_new_threshold))"
   ]
  },
  {
   "cell_type": "markdown",
   "id": "c86334ff",
   "metadata": {
    "papermill": {
     "duration": 0.010557,
     "end_time": "2025-01-12T04:23:41.799127",
     "exception": false,
     "start_time": "2025-01-12T04:23:41.788570",
     "status": "completed"
    },
    "tags": []
   },
   "source": [
    "## Vizualizations "
   ]
  },
  {
   "cell_type": "code",
   "execution_count": 28,
   "id": "5ae306fd",
   "metadata": {
    "execution": {
     "iopub.execute_input": "2025-01-12T04:23:41.821302Z",
     "iopub.status.busy": "2025-01-12T04:23:41.820895Z",
     "iopub.status.idle": "2025-01-12T04:23:42.208332Z",
     "shell.execute_reply": "2025-01-12T04:23:42.207260Z"
    },
    "papermill": {
     "duration": 0.400837,
     "end_time": "2025-01-12T04:23:42.210387",
     "exception": false,
     "start_time": "2025-01-12T04:23:41.809550",
     "status": "completed"
    },
    "tags": []
   },
   "outputs": [
    {
     "data": {
      "image/png": "[encoded data removed]",
      "text/plain": [
       "<Figure size 800x600 with 1 Axes>"
      ]
     },
     "metadata": {},
     "output_type": "display_data"
    }
   ],
   "source": [
    "import matplotlib.pyplot as plt\n",
    "from sklearn.metrics import roc_curve\n",
    "\n",
    "# Plot ROC Curve\n",
    "fpr, tpr, _ = roc_curve(ytest, y_pred_proba)\n",
    "\n",
    "plt.figure(figsize=(8, 6))\n",
    "plt.plot(fpr, tpr, label=f\"ROC Curve (AUC = {roc_auc:.2f})\", color='blue')\n",
    "plt.plot([0, 1], [0, 1], 'k--', label=\"Random Classifier\")\n",
    "plt.xlabel(\"False Positive Rate\")\n",
    "plt.ylabel(\"True Positive Rate\")\n",
    "plt.title(\"ROC Curve\")\n",
    "plt.legend()\n",
    "plt.show()"
   ]
  },
  {
   "cell_type": "code",
   "execution_count": 29,
   "id": "fd54b5aa",
   "metadata": {
    "execution": {
     "iopub.execute_input": "2025-01-12T04:23:42.235679Z",
     "iopub.status.busy": "2025-01-12T04:23:42.235346Z",
     "iopub.status.idle": "2025-01-12T04:23:42.532434Z",
     "shell.execute_reply": "2025-01-12T04:23:42.531493Z"
    },
    "papermill": {
     "duration": 0.311848,
     "end_time": "2025-01-12T04:23:42.534486",
     "exception": false,
     "start_time": "2025-01-12T04:23:42.222638",
     "status": "completed"
    },
    "tags": []
   },
   "outputs": [
    {
     "data": {
      "image/png": "[encoded data removed]",
      "text/plain": [
       "<Figure size 800x600 with 1 Axes>"
      ]
     },
     "metadata": {},
     "output_type": "display_data"
    }
   ],
   "source": [
    "plt.figure(figsize=(8, 6))\n",
    "plt.plot(recall, precision, marker='.', label=\"Precision-Recall Curve\")\n",
    "plt.xlabel(\"Recall\")\n",
    "plt.ylabel(\"Precision\")\n",
    "plt.title(\"Precision-Recall Curve\")\n",
    "plt.legend()\n",
    "plt.show()"
   ]
  }
 ],
 "metadata": {
  "kaggle": {
   "accelerator": "none",
   "dataSources": [
    {
     "datasetId": 6460075,
     "sourceId": 10422618,
     "sourceType": "datasetVersion"
    }
   ],
   "dockerImageVersionId": 30822,
   "isGpuEnabled": false,
   "isInternetEnabled": true,
   "language": "python",
   "sourceType": "notebook"
  },
  "kernelspec": {
   "display_name": "Python 3",
   "language": "python",
   "name": "python3"
  },
  "language_info": {
   "codemirror_mode": {
    "name": "ipython",
    "version": 3
   },
   "file_extension": ".py",
   "mimetype": "text/x-python",
   "name": "python",
   "nbconvert_exporter": "python",
   "pygments_lexer": "ipython3",
   "version": "3.10.12"
  },
  "papermill": {
   "default_parameters": {},
   "duration": 59.718337,
   "end_time": "2025-01-12T04:23:43.374968",
   "environment_variables": {},
   "exception": null,
   "input_path": "__notebook__.ipynb",
   "output_path": "__notebook__.ipynb",
   "parameters": {},
   "start_time": "2025-01-12T04:22:43.656631",
   "version": "2.6.0"
  }
 },
 "nbformat": 4,
 "nbformat_minor": 5
}
